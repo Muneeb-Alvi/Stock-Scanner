{
  "nbformat": 4,
  "nbformat_minor": 0,
  "metadata": {
    "colab": {
      "provenance": [],
      "authorship_tag": "ABX9TyMRRN0IUM/2IY0ubt0o0Hxt",
      "include_colab_link": true
    },
    "kernelspec": {
      "name": "python3",
      "display_name": "Python 3"
    },
    "language_info": {
      "name": "python"
    }
  },
  "cells": [
    {
      "cell_type": "markdown",
      "metadata": {
        "id": "view-in-github",
        "colab_type": "text"
      },
      "source": [
        "<a href=\"https://colab.research.google.com/github/Muneeb-Alvi/Stock-Scanner/blob/main/Stock_Scanner.ipynb\" target=\"_parent\"><img src=\"https://colab.research.google.com/assets/colab-badge.svg\" alt=\"Open In Colab\"/></a>"
      ]
    },
    {
      "cell_type": "code",
      "execution_count": null,
      "metadata": {
        "id": "hjP43XPwqjvs"
      },
      "outputs": [],
      "source": [
        "import requests\n",
        "import time\n",
        "from requests.adapters import HTTPAdapter\n",
        "from urllib3.util.retry import Retry"
      ]
    },
    {
      "cell_type": "code",
      "source": [
        "aletheia_key = \"2a621Cb5379544ad93d793b04097b34e\"\n",
        "marketaux_key = \"dCBnElYzvxtz9Jzk2NWDqKKPd4KhEzJSFpyNSyUO\""
      ],
      "metadata": {
        "id": "uXtme64ww8qQ"
      },
      "execution_count": null,
      "outputs": []
    },
    {
      "cell_type": "code",
      "source": [
        "def create_session():\n",
        "    session = requests.Session() #initialize a new session\n",
        "    retries = Retry(total=3, backoff_factor=0.1, status_forcelist=[429, 500, 502, 503, 504]) #retry rules: 3 times only after first failure, exponential backoff for retries with factor 0f 0.1\n",
        "    #common urls mentioned which are caused by rate limit being exceeeded\n",
        "    session.mount('https://', HTTPAdapter(max_retries=retries)) #all https requests will follow the above retry rules\n",
        "    return session"
      ],
      "metadata": {
        "id": "5oWA0aOjBX74"
      },
      "execution_count": 71,
      "outputs": []
    },
    {
      "cell_type": "code",
      "source": [
        "def get_stock_data(symbol, session): #get stock data using aletheia api\n",
        "  url = f\"https://api.aletheiaapi.com/StockData?symbol={symbol}\"\n",
        "  headers = {\n",
        "    \"key\": aletheia_key,\n",
        "    \"Accept-Version\": \"2\"\n",
        "  }\n",
        "  try:\n",
        "      response = session.get(url, headers=headers, timeout=10) #send request to url using session\n",
        "      response.raise_for_status() #check status code of response\n",
        "      return response.json()\n",
        "  except requests.exceptions.RequestException as e:\n",
        "      print(f\"Error retrieving stock data: {e}\")\n",
        "      return None"
      ],
      "metadata": {
        "id": "N5KSsrCmxF79"
      },
      "execution_count": 72,
      "outputs": []
    },
    {
      "cell_type": "code",
      "source": [
        "def get_stock_news(symbol, session): #get stock news from marketaux api\n",
        "  url = f\"https://api.marketaux.com/v1/news/all?symbols={symbol}&summary=true&api_token={marketaux_key}&language=en\"\n",
        "  response = requests.get(url)\n",
        "  try:\n",
        "      response = session.get(url, timeout=10)\n",
        "      response.raise_for_status()\n",
        "      return response.json()[\"data\"]\n",
        "  except requests.exceptions.RequestException as e:\n",
        "      print(f\"Error retrieving news data: {e}\")\n",
        "      return None\n",
        "  except KeyError:\n",
        "      print(\"Unexpected response structure from news API\")\n",
        "      return None\n"
      ],
      "metadata": {
        "id": "Hpz7yGjMxwsC"
      },
      "execution_count": 73,
      "outputs": []
    },
    {
      "cell_type": "code",
      "source": [
        "def display_stock_data(symbol):\n",
        "  session = create_session()\n",
        "  stock_data = get_stock_data(symbol, session)\n",
        "  news_sentiment = get_stock_news(symbol, session)\n",
        "  total_sentiment = 0\n",
        "\n",
        "  if not stock_data or not news_sentiment: #if one piece of data missing then send error message\n",
        "        print(\"Failed to retrieve complete data for the symbol.\")\n",
        "        return\n",
        "\n",
        "  print(f\"Stock Symbol: {symbol}:\") #print basic data of the stock\n",
        "  print(f\"Ask Price: {stock_data.get('AskPrice', 'N/A')}\")\n",
        "  print(f\"Bid Price: {stock_data.get('BidPrice', 'N/A')}\")\n",
        "  print(f\"Percentage Change: {stock_data.get('ChangePercent', 'N/A')}%\")\n",
        "\n",
        "  print(\"Relevant News & Sentiment:\") #print the news title, sentiment and description\n",
        "  total_sentiment = 0\n",
        "  relevant_news_count = 0\n",
        "\n",
        "  for news in news_sentiment:\n",
        "      for entity in news.get(\"entities\", []):\n",
        "          if entity[\"symbol\"] == symbol.upper():\n",
        "              sentiment = entity.get(\"sentiment_score\")\n",
        "              if sentiment is not None:\n",
        "                  total_sentiment += sentiment\n",
        "                  relevant_news_count += 1\n",
        "                  print(f\"- {news['title']} | Sentiment: {sentiment}\")\n",
        "                  print(f\"  Description: {news.get('description', 'N/A')}\")\n",
        "  if relevant_news_count > 0: #prevent divide by 0 error if no news found\n",
        "      avg_sentiment = format(total_sentiment / relevant_news_count, \".4f\")\n",
        "      print(f\"Average Sentiment: {avg_sentiment}\")\n",
        "  else:\n",
        "      print(\"No relevant news found for sentiment analysis.\")"
      ],
      "metadata": {
        "id": "FvOURyVqywr4"
      },
      "execution_count": 74,
      "outputs": []
    },
    {
      "cell_type": "code",
      "source": [
        "symbol = \"nvda\" #example with $NVDA, $TSLA, $AAPL, $AMZN\n",
        "while (symbol != \"quit\"):\n",
        "  symbol = input(\"Enter a stock symbol (or 'quit' to exit): \")\n",
        "  if symbol != \"quit\":\n",
        "    display_stock_data(symbol)\n",
        "  time.sleep(1)\n"
      ],
      "metadata": {
        "colab": {
          "base_uri": "https://localhost:8080/"
        },
        "id": "_CTk8jHzzMyC",
        "outputId": "cd4cd293-fc95-4688-f985-a7e33d1459b0"
      },
      "execution_count": 77,
      "outputs": [
        {
          "name": "stdout",
          "output_type": "stream",
          "text": [
            "Enter a stock symbol (or 'quit' to exit): nvda\n",
            "Stock Symbol: nvda:\n",
            "Ask Price: 113.26\n",
            "Bid Price: 103.0\n",
            "Percentage Change: 0.0153%\n",
            "Relevant News & Sentiment:\n",
            "- ETW: Foreign Currency Exposure Proves Beneficial For This High-Yielding CEF (NYSE:ETW) | Sentiment: 0\n",
            "  Description: The Eaton Vance Tax-Managed Global Buy-Write Opportunities Fund global diversification provide a cushion against market downturns. Read more on ETW CEF here.\n",
            "- 3 Stocks Poised to Gain From the iPhone 16’s Launch | Sentiment: 0.5859\n",
            "  Description: Stocks Analysis by The Tokenist (Timothy Fries) covering: Qualcomm Incorporated, Apple Inc, NVIDIA Corporation, VMware Inc. Read The Tokenist (Timothy Fries)'s latest article on Investing.com\n",
            "- AstraZeneca PLC (AZN): Short Seller Sentiment For This Big-Name Stock is Bullish | Sentiment: 0.7906\n",
            "  Description: We recently published a list of 10 Best Big-Name Stocks to Buy Right Now According to Short Sellers.\n",
            "Average Sentiment: 0.4588\n",
            "Enter a stock symbol (or 'quit' to exit): tsla\n",
            "Stock Symbol: tsla:\n",
            "Ask Price: 227.0\n",
            "Bid Price: 213.59\n",
            "Percentage Change: 0.0458%\n",
            "Relevant News & Sentiment:\n",
            "- US stocks close mixed on the day. Broader indices higher led by the Nasdaq index. | Sentiment: 0\n",
            "  Description: Up-and-down volatility with the major US indices\n",
            "- Stocks Shrug Off ‘Big Bank Gloom’ as Tech Rallies: Markets Wrap | Sentiment: 0.5719\n",
            "  Description: A rally in the world’s biggest tech companies lifted stocks, countering a slew of cautious comments from big bank executives that sent financial shares tumbling.\n",
            "- UBS updates its ‘election watch’ stocks to match new winning probabilities | Sentiment: -0.4215\n",
            "  Description: UBS analysts have updated their list of U.S. stocks that would benefit in the two probable scenarios this upcoming election.\n",
            "Average Sentiment: 0.0501\n",
            "Enter a stock symbol (or 'quit' to exit): aapl\n",
            "Stock Symbol: aapl:\n",
            "Ask Price: 229.85\n",
            "Bid Price: 220.26\n",
            "Percentage Change: -0.0036000002%\n",
            "Relevant News & Sentiment:\n",
            "- ETW: Foreign Currency Exposure Proves Beneficial For This High-Yielding CEF (NYSE:ETW) | Sentiment: 0\n",
            "  Description: The Eaton Vance Tax-Managed Global Buy-Write Opportunities Fund global diversification provide a cushion against market downturns. Read more on ETW CEF here.\n",
            "- Stock market today: Tech leads S&P 500, Nasdaq higher as JPMorgan drags Dow lower | Sentiment: -0.6808\n",
            "  Description: Investors are gearing up for a consumer inflation print seen as crucial to determining the size of the first US interest-rate cut in years.\n",
            "- 3 Stocks Poised to Gain From the iPhone 16’s Launch | Sentiment: 0.36755\n",
            "  Description: Stocks Analysis by The Tokenist (Timothy Fries) covering: Qualcomm Incorporated, Apple Inc, NVIDIA Corporation, VMware Inc. Read The Tokenist (Timothy Fries)'s latest article on Investing.com\n",
            "Average Sentiment: -0.1044\n",
            "Enter a stock symbol (or 'quit' to exit): amzn\n",
            "Stock Symbol: amzn:\n",
            "Ask Price: 179.66\n",
            "Bid Price: 179.5\n",
            "Percentage Change: 0.023699999%\n",
            "Relevant News & Sentiment:\n",
            "- ETW: Foreign Currency Exposure Proves Beneficial For This High-Yielding CEF (NYSE:ETW) | Sentiment: 0\n",
            "  Description: The Eaton Vance Tax-Managed Global Buy-Write Opportunities Fund global diversification provide a cushion against market downturns. Read more on ETW CEF here.\n",
            "- U.S. stocks mixed at close of trade; Dow Jones Industrial Average down 0.23% By Investing.com | Sentiment: 0.6369\n",
            "  Description: U.S. stocks mixed at close of trade; Dow Jones Industrial Average down 0.23%\n",
            "- Amazon.com, Inc. (AMZN): Short Seller Sentiment For This Big-Name Stock is Bullish | Sentiment: 0.375517\n",
            "  Description: We recently published a list of 10 Best Big-Name Stocks to Buy Right Now According to Short Sellers. In this article, we are going to take a look at where Amazon.com, Inc.\n",
            "Average Sentiment: 0.3375\n",
            "Enter a stock symbol (or 'quit' to exit): quit\n"
          ]
        }
      ]
    }
  ]
}