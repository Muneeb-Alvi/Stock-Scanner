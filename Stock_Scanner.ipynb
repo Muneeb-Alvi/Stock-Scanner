{
  "nbformat": 4,
  "nbformat_minor": 0,
  "metadata": {
    "colab": {
      "provenance": [],
      "authorship_tag": "ABX9TyPiGW6bG2xQaj5lFIiOMnty",
      "include_colab_link": true
    },
    "kernelspec": {
      "name": "python3",
      "display_name": "Python 3"
    },
    "language_info": {
      "name": "python"
    }
  },
  "cells": [
    {
      "cell_type": "markdown",
      "metadata": {
        "id": "view-in-github",
        "colab_type": "text"
      },
      "source": [
        "<a href=\"https://colab.research.google.com/github/Muneeb-Alvi/Stock-Scanner/blob/main/Stock_Scanner.ipynb\" target=\"_parent\"><img src=\"https://colab.research.google.com/assets/colab-badge.svg\" alt=\"Open In Colab\"/></a>"
      ]
    },
    {
      "cell_type": "code",
      "execution_count": 1,
      "metadata": {
        "id": "hjP43XPwqjvs"
      },
      "outputs": [],
      "source": [
        "import requests\n",
        "import time\n",
        "from google.colab import userdata\n",
        "from requests.adapters import HTTPAdapter\n",
        "from urllib3.util.retry import Retry"
      ]
    },
    {
      "cell_type": "code",
      "source": [
        "aletheia_key = userdata.get('aletheia_key')\n",
        "marketaux_key = userdata.get(\"marketaux_key\")"
      ],
      "metadata": {
        "id": "uXtme64ww8qQ"
      },
      "execution_count": 2,
      "outputs": []
    },
    {
      "cell_type": "code",
      "source": [
        "def create_session():\n",
        "    session = requests.Session() #initialize a new session\n",
        "    retries = Retry(total=3, backoff_factor=0.1, status_forcelist=[429, 500, 502, 503, 504]) #retry rules: 3 times only after first failure, exponential backoff for retries with factor 0f 0.1\n",
        "    #common urls mentioned which are caused by rate limit being exceeeded\n",
        "    session.mount('https://', HTTPAdapter(max_retries=retries)) #all https requests will follow the above retry rules\n",
        "    return session"
      ],
      "metadata": {
        "id": "5oWA0aOjBX74"
      },
      "execution_count": 3,
      "outputs": []
    },
    {
      "cell_type": "code",
      "source": [
        "def get_stock_data(symbol, session): #get stock data using aletheia api\n",
        "  url = f\"https://api.aletheiaapi.com/StockData?symbol={symbol}\"\n",
        "  headers = {\n",
        "    \"key\": aletheia_key,\n",
        "    \"Accept-Version\": \"2\"\n",
        "  }\n",
        "  try:\n",
        "      response = session.get(url, headers=headers, timeout=10) #send request to url using session\n",
        "      response.raise_for_status() #check status code of response\n",
        "      return response.json()\n",
        "  except requests.exceptions.RequestException as e:\n",
        "      print(f\"Error retrieving stock data: {e}\")\n",
        "      return None"
      ],
      "metadata": {
        "id": "N5KSsrCmxF79"
      },
      "execution_count": 4,
      "outputs": []
    },
    {
      "cell_type": "code",
      "source": [
        "def get_stock_news(symbol, session): #get stock news from marketaux api\n",
        "  url = f\"https://api.marketaux.com/v1/news/all?symbols={symbol}&summary=true&api_token={marketaux_key}&language=en\"\n",
        "  response = requests.get(url)\n",
        "  try:\n",
        "      response = session.get(url, timeout=10)\n",
        "      response.raise_for_status()\n",
        "      return response.json()[\"data\"]\n",
        "  except requests.exceptions.RequestException as e:\n",
        "      print(f\"Error retrieving news data: {e}\")\n",
        "      return None\n",
        "  except KeyError:\n",
        "      print(\"Unexpected response structure from news API\")\n",
        "      return None\n"
      ],
      "metadata": {
        "id": "Hpz7yGjMxwsC"
      },
      "execution_count": 5,
      "outputs": []
    },
    {
      "cell_type": "code",
      "source": [
        "def display_stock_data(symbol):\n",
        "  session = create_session()\n",
        "  stock_data = get_stock_data(symbol, session)\n",
        "  news_sentiment = get_stock_news(symbol, session)\n",
        "  total_sentiment = 0\n",
        "\n",
        "  if not stock_data or not news_sentiment: #if one piece of data missing then send error message\n",
        "        print(\"Failed to retrieve complete data for the symbol.\")\n",
        "        return\n",
        "\n",
        "  print(f\"Stock Symbol: {symbol}:\") #print basic data of the stock\n",
        "  print(f\"Ask Price: {stock_data.get('AskPrice', 'N/A')}\")\n",
        "  print(f\"Bid Price: {stock_data.get('BidPrice', 'N/A')}\")\n",
        "  print(f\"Percentage Change: {stock_data.get('ChangePercent', 'N/A')}%\")\n",
        "\n",
        "  print(\"Relevant News & Sentiment:\") #print the news title, sentiment and description\n",
        "  total_sentiment = 0\n",
        "  relevant_news_count = 0\n",
        "\n",
        "  for news in news_sentiment:\n",
        "      for entity in news.get(\"entities\", []):\n",
        "          if entity[\"symbol\"] == symbol.upper():\n",
        "              sentiment = entity.get(\"sentiment_score\")\n",
        "              if sentiment is not None:\n",
        "                  total_sentiment += sentiment\n",
        "                  relevant_news_count += 1\n",
        "                  print(f\"- {news['title']} | Sentiment: {sentiment}\")\n",
        "                  print(f\"  Description: {news.get('description', 'N/A')}\")\n",
        "  if relevant_news_count > 0: #prevent divide by 0 error if no news found\n",
        "      avg_sentiment = format(total_sentiment / relevant_news_count, \".4f\")\n",
        "      print(f\"Average Sentiment: {avg_sentiment}\")\n",
        "  else:\n",
        "      print(\"No relevant news found for sentiment analysis.\")"
      ],
      "metadata": {
        "id": "FvOURyVqywr4"
      },
      "execution_count": 6,
      "outputs": []
    },
    {
      "cell_type": "code",
      "source": [
        "symbol = \"\" #example with $NVDA, $TSLA, $AAPL, $AMZN\n",
        "while (symbol != \"quit\"):\n",
        "  symbol = input(\"Enter a stock symbol (or 'quit' to exit): \")\n",
        "  if symbol != \"quit\":\n",
        "    display_stock_data(symbol)\n",
        "  time.sleep(1)\n"
      ],
      "metadata": {
        "colab": {
          "base_uri": "https://localhost:8080/"
        },
        "id": "_CTk8jHzzMyC",
        "outputId": "19b4ed77-2567-4c79-899b-6193fc5c6a47"
      },
      "execution_count": 7,
      "outputs": [
        {
          "name": "stdout",
          "output_type": "stream",
          "text": [
            "Enter a stock symbol (or 'quit' to exit): nvda\n",
            "Stock Symbol: nvda:\n",
            "Ask Price: 120.0\n",
            "Bid Price: 119.94\n",
            "Percentage Change: 0.026400002%\n",
            "Relevant News & Sentiment:\n",
            "- AMD Is Coming For Nvidia's AI Lead (NASDAQ:NVDA) | Sentiment: 0.359445\n",
            "  Description: Nvidia and Advanced Micro Devices are both strong stock opportunities in the GPU market, with NVDA maintaining a slight edge over AMD. Learn more on NVDA stock here.\n",
            "- Nasdaq, S&P, Dow mixed following higher-than-expected core PPI print | Sentiment: 0.4767\n",
            "  Description: Wall Street's major market averages are mixed on Thursday, as headline and core producer index rose higher than expected in August.\n",
            "- Market Clubhouse Morning Memo - September 12th, 2024 (Trade Strategy For SPY, QQQ, AAPL, MSFT, NVDA, GOOGL, META And TSLA) | Sentiment: 0.5577\n",
            "  Description: Good Morning Traders! In today's Market Clubhouse Morning Memo, we will discuss SPY, QQQ, AAPL, MSFT, NVDA, GOOGL, META, and TSLA.\n",
            "Average Sentiment: 0.4646\n",
            "Enter a stock symbol (or 'quit' to exit): tsla\n",
            "Stock Symbol: tsla:\n",
            "Ask Price: 230.5\n",
            "Bid Price: 229.86\n",
            "Percentage Change: 0.0092%\n",
            "Relevant News & Sentiment:\n",
            "- Human-Like Reasoning 'Strawberry' Ahead, Aggressive Nvidia Buying, Hotter Inflation Data - Apple (NASDAQ:AAPL) | Sentiment: 0.9118\n",
            "  Description: To gain an edge, this is what you need to know today.\n",
            "- Market Clubhouse Morning Memo - September 12th, 2024 (Trade Strategy For SPY, QQQ, AAPL, MSFT, NVDA, GOOGL, META And TSLA) | Sentiment: 0\n",
            "  Description: Good Morning Traders! In today's Market Clubhouse Morning Memo, we will discuss SPY, QQQ, AAPL, MSFT, NVDA, GOOGL, META, and TSLA.\n",
            "- Tesla's Cybertruck Resale Values Are Crashing As Their Stock Tumbles 10% Year To Date - Tesla (NASDAQ:TSLA) | Sentiment: 0.450167\n",
            "  Description: Recently, the price of used Tesla Cybertrucks dropped from an average of $185,000 in early April to about $117,000 by September 2024. Tesla's stock has shown a 10% loss year-to-date, indicating a disconnect between the stock performance and the initial excitement over its products.\n",
            "Average Sentiment: 0.4540\n",
            "Enter a stock symbol (or 'quit' to exit): aapl\n",
            "Stock Symbol: aapl:\n",
            "Ask Price: 223.05\n",
            "Bid Price: 222.85\n",
            "Percentage Change: 0.0013%\n",
            "Relevant News & Sentiment:\n",
            "- Unexpected Apple tax payment ‘exciting’ for Ireland–PM Harris | Sentiment: -0.09358\n",
            "  Description: IRISH Prime Minister Simon Harris said his country has “exciting opportunities” as it considers how to spend an almost €14 billion ($15.4 billion) windfall it will receive as a result of Apple Inc. losing a European court fight over its tax bill. “This is a situation where we do have…\n",
            "- Human-Like Reasoning 'Strawberry' Ahead, Aggressive Nvidia Buying, Hotter Inflation Data - Apple (NASDAQ:AAPL) | Sentiment: 0.3024\n",
            "  Description: To gain an edge, this is what you need to know today.\n",
            "- Market Clubhouse Morning Memo - September 12th, 2024 (Trade Strategy For SPY, QQQ, AAPL, MSFT, NVDA, GOOGL, META And TSLA) | Sentiment: 0.7906\n",
            "  Description: Good Morning Traders! In today's Market Clubhouse Morning Memo, we will discuss SPY, QQQ, AAPL, MSFT, NVDA, GOOGL, META, and TSLA.\n",
            "Average Sentiment: 0.3331\n",
            "Enter a stock symbol (or 'quit' to exit): amzn\n",
            "Stock Symbol: amzn:\n",
            "Ask Price: 186.19\n",
            "Bid Price: 185.76\n",
            "Percentage Change: 0.007900001%\n",
            "Relevant News & Sentiment:\n",
            "- Human-Like Reasoning 'Strawberry' Ahead, Aggressive Nvidia Buying, Hotter Inflation Data - Apple (NASDAQ:AAPL) | Sentiment: 0.7579\n",
            "  Description: To gain an edge, this is what you need to know today.\n",
            "- Dow Jones Eases But Nasdaq, S&P Climb; Nvidia Moves Past Important Level On Analyst Views (Live Coverage) | Sentiment: -0.8273\n",
            "  Description: Indexes were mixed in the stock market today after inflation showed signs of easing. Nvidia cleared a key level; analysts made it a top pick.\n",
            "- 🔒 Global regulators intensify tech giant crackdown | Sentiment: 0.1779\n",
            "  Description: Governments are intensifying oversight of major tech firms. In the U.S., the DOJ is challenging Google's advertising dominance...\n",
            "Average Sentiment: 0.0362\n",
            "Enter a stock symbol (or 'quit' to exit): quit\n"
          ]
        }
      ]
    }
  ]
}