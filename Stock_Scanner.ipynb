{
  "nbformat": 4,
  "nbformat_minor": 0,
  "metadata": {
    "colab": {
      "provenance": [],
      "authorship_tag": "ABX9TyOSx1CFQrwNLQgTVAxUNLmx",
      "include_colab_link": true
    },
    "kernelspec": {
      "name": "python3",
      "display_name": "Python 3"
    },
    "language_info": {
      "name": "python"
    }
  },
  "cells": [
    {
      "cell_type": "markdown",
      "metadata": {
        "id": "view-in-github",
        "colab_type": "text"
      },
      "source": [
        "<a href=\"https://colab.research.google.com/github/Muneeb-Alvi/Stock-Scanner/blob/main/Stock_Scanner.ipynb\" target=\"_parent\"><img src=\"https://colab.research.google.com/assets/colab-badge.svg\" alt=\"Open In Colab\"/></a>"
      ]
    },
    {
      "cell_type": "code",
      "execution_count": null,
      "metadata": {
        "id": "hjP43XPwqjvs"
      },
      "outputs": [],
      "source": [
        "import requests\n",
        "import time\n",
        "from requests.adapters import HTTPAdapter\n",
        "from urllib3.util.retry import Retry"
      ]
    },
    {
      "cell_type": "code",
      "source": [
        "aletheia_key = \"2a621Cb5379544ad93d793b04097b34e\"\n",
        "marketaux_key = \"dCBnElYzvxtz9Jzk2NWDqKKPd4KhEzJSFpyNSyUO\""
      ],
      "metadata": {
        "id": "uXtme64ww8qQ"
      },
      "execution_count": null,
      "outputs": []
    },
    {
      "cell_type": "code",
      "source": [
        "def create_session():\n",
        "    session = requests.Session() #initialize a new session\n",
        "    retries = Retry(total=3, backoff_factor=0.1, status_forcelist=[429, 500, 502, 503, 504]) #retry rules: 3 times only after first failure, exponential backoff for retries with factor 0f 0.1\n",
        "    #common urls mentioned which are caused by rate limit being exceeeded\n",
        "    session.mount('https://', HTTPAdapter(max_retries=retries)) #all https requests will follow the above retry rules\n",
        "    return session"
      ],
      "metadata": {
        "id": "5oWA0aOjBX74"
      },
      "execution_count": 71,
      "outputs": []
    },
    {
      "cell_type": "code",
      "source": [
        "def get_stock_data(symbol, session): #get stock data using aletheia api\n",
        "  url = f\"https://api.aletheiaapi.com/StockData?symbol={symbol}\"\n",
        "  headers = {\n",
        "    \"key\": aletheia_key,\n",
        "    \"Accept-Version\": \"2\"\n",
        "  }\n",
        "  try:\n",
        "      response = session.get(url, headers=headers, timeout=10) #send request to url using session\n",
        "      response.raise_for_status() #check status code of response\n",
        "      return response.json()\n",
        "  except requests.exceptions.RequestException as e:\n",
        "      print(f\"Error retrieving stock data: {e}\")\n",
        "      return None"
      ],
      "metadata": {
        "id": "N5KSsrCmxF79"
      },
      "execution_count": 72,
      "outputs": []
    },
    {
      "cell_type": "code",
      "source": [
        "def get_stock_news(symbol, session): #get stock news from marketaux api\n",
        "  url = f\"https://api.marketaux.com/v1/news/all?symbols={symbol}&summary=true&api_token={marketaux_key}&language=en\"\n",
        "  response = requests.get(url)\n",
        "  try:\n",
        "      response = session.get(url, timeout=10)\n",
        "      response.raise_for_status()\n",
        "      return response.json()[\"data\"]\n",
        "  except requests.exceptions.RequestException as e:\n",
        "      print(f\"Error retrieving news data: {e}\")\n",
        "      return None\n",
        "  except KeyError:\n",
        "      print(\"Unexpected response structure from news API\")\n",
        "      return None\n"
      ],
      "metadata": {
        "id": "Hpz7yGjMxwsC"
      },
      "execution_count": 73,
      "outputs": []
    },
    {
      "cell_type": "code",
      "source": [
        "def display_stock_data(symbol):\n",
        "  session = create_session()\n",
        "  stock_data = get_stock_data(symbol, session)\n",
        "  news_sentiment = get_stock_news(symbol, session)\n",
        "  total_sentiment = 0\n",
        "\n",
        "  if not stock_data or not news_sentiment: #if one piece of data missing then send error message\n",
        "        print(\"Failed to retrieve complete data for the symbol.\")\n",
        "        return\n",
        "\n",
        "  print(f\"Stock Symbol: {symbol}:\") #print basic data of the stock\n",
        "  print(f\"Ask Price: {stock_data.get('AskPrice', 'N/A')}\")\n",
        "  print(f\"Bid Price: {stock_data.get('BidPrice', 'N/A')}\")\n",
        "  print(f\"Percentage Change: {stock_data.get('ChangePercent', 'N/A')}%\")\n",
        "\n",
        "  print(\"Relevant News & Sentiment:\") #print the news title, sentiment and description\n",
        "  total_sentiment = 0\n",
        "  relevant_news_count = 0\n",
        "\n",
        "  for news in news_sentiment:\n",
        "      for entity in news.get(\"entities\", []):\n",
        "          if entity[\"symbol\"] == symbol.upper():\n",
        "              sentiment = entity.get(\"sentiment_score\")\n",
        "              if sentiment is not None:\n",
        "                  total_sentiment += sentiment\n",
        "                  relevant_news_count += 1\n",
        "                  print(f\"- {news['title']} | Sentiment: {sentiment}\")\n",
        "                  print(f\"  Description: {news.get('description', 'N/A')}\")\n",
        "  if relevant_news_count > 0: #prevent divide by 0 error if no news found\n",
        "      avg_sentiment = format(total_sentiment / relevant_news_count, \".4f\")\n",
        "      print(f\"Average Sentiment: {avg_sentiment}\")\n",
        "  else:\n",
        "      print(\"No relevant news found for sentiment analysis.\")"
      ],
      "metadata": {
        "id": "FvOURyVqywr4"
      },
      "execution_count": 74,
      "outputs": []
    },
    {
      "cell_type": "code",
      "source": [
        "symbol = \"\" #example with $NVDA, $TSLA, $AAPL, $AMZN\n",
        "while (symbol != \"quit\"):\n",
        "  symbol = input(\"Enter a stock symbol (or 'quit' to exit): \")\n",
        "  if symbol != \"quit\":\n",
        "    display_stock_data(symbol)\n",
        "  time.sleep(1)\n"
      ],
      "metadata": {
        "colab": {
          "base_uri": "https://localhost:8080/"
        },
        "id": "_CTk8jHzzMyC",
        "outputId": "87139fb9-c3c7-4e10-f37f-6fe604ada1f5"
      },
      "execution_count": 78,
      "outputs": [
        {
          "name": "stdout",
          "output_type": "stream",
          "text": [
            "Enter a stock symbol (or 'quit' to exit): nvda\n",
            "Stock Symbol: nvda:\n",
            "Ask Price: 113.26\n",
            "Bid Price: 103.0\n",
            "Percentage Change: 0.0153%\n",
            "Relevant News & Sentiment:\n",
            "- QQQ: My In-Depth Look At The Nasdaq-100 Fundamentals (NASDAQ:QQQ) | Sentiment: 0.29295\n",
            "  Description: Invesco QQQ Trust's valuation is at least partially justified, evidenced by its stronger growth, quality, momentum, and sentiment features. Learn more on QQQ ETF here.\n",
            "- Dow Jones Futures: Trump-Harris Debate Due With S&P 500 Near Key Level; Tesla Jumps | Sentiment: 0.072133\n",
            "  Description: Dow Jones futures: JPMorgan led banks lower while Tesla jumped in mixed stock market action. The Trump-Harris debate and CPI inflation loom.\n",
            "- JFrog CEO Shlomi Ben Haim sells shares worth over $470k By Investing.com | Sentiment: 0.6486\n",
            "  Description: JFrog CEO Shlomi Ben Haim sells shares worth over $470k\n",
            "Average Sentiment: 0.3379\n",
            "Enter a stock symbol (or 'quit' to exit): tsla\n",
            "Stock Symbol: tsla:\n",
            "Ask Price: 227.0\n",
            "Bid Price: 213.59\n",
            "Percentage Change: 0.0458%\n",
            "Relevant News & Sentiment:\n",
            "- QQQ: My In-Depth Look At The Nasdaq-100 Fundamentals (NASDAQ:QQQ) | Sentiment: -0.0414\n",
            "  Description: Invesco QQQ Trust's valuation is at least partially justified, evidenced by its stronger growth, quality, momentum, and sentiment features. Learn more on QQQ ETF here.\n",
            "- Dow Jones Futures: Trump-Harris Debate Due With S&P 500 Near Key Level; Tesla Jumps | Sentiment: 0.27894\n",
            "  Description: Dow Jones futures: JPMorgan led banks lower while Tesla jumped in mixed stock market action. The Trump-Harris debate and CPI inflation loom.\n",
            "- Here's How Much BTC Elon Musk's SpaceX Owns: Details By U.Today | Sentiment: 0\n",
            "  Description: Here's How Much BTC Elon Musk's SpaceX Owns: Details\n",
            "Average Sentiment: 0.0792\n",
            "Enter a stock symbol (or 'quit' to exit): aapl\n",
            "Stock Symbol: aapl:\n",
            "Ask Price: 229.85\n",
            "Bid Price: 220.26\n",
            "Percentage Change: -0.0036000002%\n",
            "Relevant News & Sentiment:\n",
            "- Market Today: GameStop Sales Plummet, Warren Buffett Sells BofA Shares, and Apple Enters Hearing | Sentiment: 0.390733\n",
            "  Description: Market Overview\n",
            "The stock market showed mixed action at the index level, with limited moves in either direction. The S&P 500 traded up as much as 0.5% and as lo\n",
            "- QQQ: My In-Depth Look At The Nasdaq-100 Fundamentals (NASDAQ:QQQ) | Sentiment: 0\n",
            "  Description: Invesco QQQ Trust's valuation is at least partially justified, evidenced by its stronger growth, quality, momentum, and sentiment features. Learn more on QQQ ETF here.\n",
            "- Stock Market Today: S&P 500 shrugs off energy, financials slide as tech shines By Investing.com | Sentiment: 0.41005\n",
            "  Description: Stock Market Today: S&P 500 shrugs off energy, financials slide as tech shines\n",
            "Average Sentiment: 0.2669\n",
            "Enter a stock symbol (or 'quit' to exit): amzn\n",
            "Stock Symbol: amzn:\n",
            "Ask Price: 179.66\n",
            "Bid Price: 179.5\n",
            "Percentage Change: 0.023699999%\n",
            "Relevant News & Sentiment:\n",
            "- GameStop: Likely Turning Into An Investment Company, Initiate With ‘Strong Sell’ (GME) | Sentiment: 0.8271\n",
            "  Description: GameStop's ongoing store closures and competition will likely lead to continued revenue decline and operational challenges. Learn more about GME stock here.\n",
            "- QQQ: My In-Depth Look At The Nasdaq-100 Fundamentals (NASDAQ:QQQ) | Sentiment: 0\n",
            "  Description: Invesco QQQ Trust's valuation is at least partially justified, evidenced by its stronger growth, quality, momentum, and sentiment features. Learn more on QQQ ETF here.\n",
            "- ETW: Foreign Currency Exposure Proves Beneficial For This High-Yielding CEF (NYSE:ETW) | Sentiment: 0\n",
            "  Description: The Eaton Vance Tax-Managed Global Buy-Write Opportunities Fund global diversification provide a cushion against market downturns. Read more on ETW CEF here.\n",
            "Average Sentiment: 0.2757\n",
            "Enter a stock symbol (or 'quit' to exit): quit\n"
          ]
        }
      ]
    }
  ]
}